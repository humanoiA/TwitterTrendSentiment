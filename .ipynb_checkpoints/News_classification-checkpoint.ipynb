{
 "cells": [
  {
   "cell_type": "code",
   "execution_count": 0,
   "metadata": {
    "colab": {},
    "colab_type": "code",
    "id": "ZlkihoFvcw9E"
   },
   "outputs": [],
   "source": [
    "import pandas as pd\n",
    "import numpy as np\n",
    "import matplotlib.pyplot as plt\n",
    "import datetime as dt"
   ]
  },
  {
   "cell_type": "markdown",
   "metadata": {
    "colab_type": "text",
    "id": "zBNnFFmgesq5"
   },
   "source": [
    "#### Mergins all datasets together"
   ]
  },
  {
   "cell_type": "code",
   "execution_count": 0,
   "metadata": {
    "colab": {},
    "colab_type": "code",
    "id": "B5OJU5H_e944"
   },
   "outputs": [],
   "source": [
    "def create_df(file):\n",
    "  df = pd.read_csv(file)\n",
    "  return df"
   ]
  },
  {
   "cell_type": "code",
   "execution_count": 0,
   "metadata": {
    "colab": {},
    "colab_type": "code",
    "id": "-qtndz-efGSA"
   },
   "outputs": [],
   "source": [
    "df = create_df('english_5K_label_final.csv')\n"
   ]
  },
  {
   "cell_type": "code",
   "execution_count": 0,
   "metadata": {
    "colab": {
     "base_uri": "https://localhost:8080/",
     "height": 717
    },
    "colab_type": "code",
    "id": "BuQqkr9cvUt6",
    "outputId": "5f540051-4c77-4389-c3e0-e08c6d5b38f9"
   },
   "outputs": [
    {
     "data": {
      "text/html": [
       "<div>\n",
       "<style scoped>\n",
       "    .dataframe tbody tr th:only-of-type {\n",
       "        vertical-align: middle;\n",
       "    }\n",
       "\n",
       "    .dataframe tbody tr th {\n",
       "        vertical-align: top;\n",
       "    }\n",
       "\n",
       "    .dataframe thead th {\n",
       "        text-align: right;\n",
       "    }\n",
       "</style>\n",
       "<table border=\"1\" class=\"dataframe\">\n",
       "  <thead>\n",
       "    <tr style=\"text-align: right;\">\n",
       "      <th></th>\n",
       "      <th>Unnamed: 0</th>\n",
       "      <th>Unnamed: 0.1</th>\n",
       "      <th>index</th>\n",
       "      <th>GLOBALEVENTID</th>\n",
       "      <th>SQLDATE</th>\n",
       "      <th>MonthYear</th>\n",
       "      <th>Year</th>\n",
       "      <th>FractionDate</th>\n",
       "      <th>Actor1Code</th>\n",
       "      <th>Actor1Name</th>\n",
       "      <th>Actor1CountryCode</th>\n",
       "      <th>Actor1KnownGroupCode</th>\n",
       "      <th>Actor1EthnicCode</th>\n",
       "      <th>Actor1Religion1Code</th>\n",
       "      <th>Actor1Religion2Code</th>\n",
       "      <th>Actor1Type1Code</th>\n",
       "      <th>Actor1Type2Code</th>\n",
       "      <th>Actor1Type3Code</th>\n",
       "      <th>Actor2Code</th>\n",
       "      <th>Actor2Name</th>\n",
       "      <th>Actor2CountryCode</th>\n",
       "      <th>Actor2KnownGroupCode</th>\n",
       "      <th>Actor2EthnicCode</th>\n",
       "      <th>Actor2Religion1Code</th>\n",
       "      <th>Actor2Religion2Code</th>\n",
       "      <th>Actor2Type1Code</th>\n",
       "      <th>Actor2Type2Code</th>\n",
       "      <th>Actor2Type3Code</th>\n",
       "      <th>IsRootEvent</th>\n",
       "      <th>EventCode</th>\n",
       "      <th>CAMEOCodeDescription</th>\n",
       "      <th>EventBaseCode</th>\n",
       "      <th>EventRootCode</th>\n",
       "      <th>QuadClass</th>\n",
       "      <th>GoldsteinScale</th>\n",
       "      <th>NumMentions</th>\n",
       "      <th>NumSources</th>\n",
       "      <th>NumArticles</th>\n",
       "      <th>AvgTone</th>\n",
       "      <th>Actor1Geo_Type</th>\n",
       "      <th>Actor1Geo_FullName</th>\n",
       "      <th>Actor1Geo_CountryCode</th>\n",
       "      <th>Actor1Geo_ADM1Code</th>\n",
       "      <th>Actor1Geo_ADM2Code</th>\n",
       "      <th>Actor1Geo_Lat</th>\n",
       "      <th>Actor1Geo_Long</th>\n",
       "      <th>Actor1Geo_FeatureID</th>\n",
       "      <th>Actor2Geo_Type</th>\n",
       "      <th>Actor2Geo_FullName</th>\n",
       "      <th>Actor2Geo_CountryCode</th>\n",
       "      <th>Actor2Geo_ADM1Code</th>\n",
       "      <th>Actor2Geo_ADM2Code</th>\n",
       "      <th>Actor2Geo_Lat</th>\n",
       "      <th>Actor2Geo_Long</th>\n",
       "      <th>Actor2Geo_FeatureID</th>\n",
       "      <th>ActionGeo_Type</th>\n",
       "      <th>ActionGeo_FullName</th>\n",
       "      <th>ActionGeo_CountryCode</th>\n",
       "      <th>ActionGeo_ADM1Code</th>\n",
       "      <th>ActionGeo_ADM2Code</th>\n",
       "      <th>ActionGeo_Lat</th>\n",
       "      <th>ActionGeo_Long</th>\n",
       "      <th>ActionGeo_FeatureID</th>\n",
       "      <th>DATEADDED</th>\n",
       "      <th>SOURCEURL</th>\n",
       "      <th>title</th>\n",
       "      <th>text</th>\n",
       "      <th>summary</th>\n",
       "      <th>summary_wrap</th>\n",
       "      <th>lab_final</th>\n",
       "    </tr>\n",
       "  </thead>\n",
       "  <tbody>\n",
       "    <tr>\n",
       "      <th>0</th>\n",
       "      <td>0</td>\n",
       "      <td>0</td>\n",
       "      <td>25090</td>\n",
       "      <td>896079819</td>\n",
       "      <td>19200101</td>\n",
       "      <td>192001</td>\n",
       "      <td>1920</td>\n",
       "      <td>1920.0027</td>\n",
       "      <td>ELI</td>\n",
       "      <td>RETIRED</td>\n",
       "      <td>NaN</td>\n",
       "      <td>NaN</td>\n",
       "      <td>NaN</td>\n",
       "      <td>NaN</td>\n",
       "      <td>NaN</td>\n",
       "      <td>ELI</td>\n",
       "      <td>NaN</td>\n",
       "      <td>NaN</td>\n",
       "      <td>NaN</td>\n",
       "      <td>NaN</td>\n",
       "      <td>NaN</td>\n",
       "      <td>NaN</td>\n",
       "      <td>NaN</td>\n",
       "      <td>NaN</td>\n",
       "      <td>NaN</td>\n",
       "      <td>NaN</td>\n",
       "      <td>NaN</td>\n",
       "      <td>NaN</td>\n",
       "      <td>0</td>\n",
       "      <td>192</td>\n",
       "      <td>Occupy territory</td>\n",
       "      <td>192</td>\n",
       "      <td>19</td>\n",
       "      <td>4</td>\n",
       "      <td>-9.5</td>\n",
       "      <td>4</td>\n",
       "      <td>1</td>\n",
       "      <td>4</td>\n",
       "      <td>-6.476684</td>\n",
       "      <td>4</td>\n",
       "      <td>Pune, Maharashtra, India</td>\n",
       "      <td>IN</td>\n",
       "      <td>IN16</td>\n",
       "      <td>70178.0</td>\n",
       "      <td>18.5333</td>\n",
       "      <td>73.8667</td>\n",
       "      <td>-2108361</td>\n",
       "      <td>0</td>\n",
       "      <td>NaN</td>\n",
       "      <td>NaN</td>\n",
       "      <td>NaN</td>\n",
       "      <td>NaN</td>\n",
       "      <td>NaN</td>\n",
       "      <td>NaN</td>\n",
       "      <td>NaN</td>\n",
       "      <td>4</td>\n",
       "      <td>Pune, Maharashtra, India</td>\n",
       "      <td>IN</td>\n",
       "      <td>IN16</td>\n",
       "      <td>70178.0</td>\n",
       "      <td>18.5333</td>\n",
       "      <td>73.8667</td>\n",
       "      <td>-2108361</td>\n",
       "      <td>20200101044500</td>\n",
       "      <td>https://punemirror.indiatimes.com/pune/cover-s...</td>\n",
       "      <td>pmc threatens to seize house of ex i t comm wh...</td>\n",
       "      <td>PMC threatens to seize house of ex I-T comm wh...</td>\n",
       "      <td>In this light, he had also sent a legal notice...</td>\n",
       "      <td>In this light, he had also sent a legal notice...</td>\n",
       "      <td>Irrelevant</td>\n",
       "    </tr>\n",
       "    <tr>\n",
       "      <th>1</th>\n",
       "      <td>1</td>\n",
       "      <td>1</td>\n",
       "      <td>33280</td>\n",
       "      <td>896089642</td>\n",
       "      <td>19200101</td>\n",
       "      <td>192001</td>\n",
       "      <td>1920</td>\n",
       "      <td>1920.0027</td>\n",
       "      <td>COP</td>\n",
       "      <td>POLICEMAN</td>\n",
       "      <td>NaN</td>\n",
       "      <td>NaN</td>\n",
       "      <td>NaN</td>\n",
       "      <td>NaN</td>\n",
       "      <td>NaN</td>\n",
       "      <td>COP</td>\n",
       "      <td>NaN</td>\n",
       "      <td>NaN</td>\n",
       "      <td>EDU</td>\n",
       "      <td>STUDENT</td>\n",
       "      <td>NaN</td>\n",
       "      <td>NaN</td>\n",
       "      <td>NaN</td>\n",
       "      <td>NaN</td>\n",
       "      <td>NaN</td>\n",
       "      <td>EDU</td>\n",
       "      <td>NaN</td>\n",
       "      <td>NaN</td>\n",
       "      <td>1</td>\n",
       "      <td>51</td>\n",
       "      <td>Praise or endorse</td>\n",
       "      <td>51</td>\n",
       "      <td>5</td>\n",
       "      <td>1</td>\n",
       "      <td>3.4</td>\n",
       "      <td>3</td>\n",
       "      <td>1</td>\n",
       "      <td>3</td>\n",
       "      <td>0.709220</td>\n",
       "      <td>4</td>\n",
       "      <td>Mirzapur, Uttar Pradesh, India</td>\n",
       "      <td>IN</td>\n",
       "      <td>IN36</td>\n",
       "      <td>17924.0</td>\n",
       "      <td>27.2494</td>\n",
       "      <td>79.3139</td>\n",
       "      <td>10451923</td>\n",
       "      <td>4</td>\n",
       "      <td>Mirzapur, Uttar Pradesh, India</td>\n",
       "      <td>IN</td>\n",
       "      <td>IN36</td>\n",
       "      <td>17924.0</td>\n",
       "      <td>27.2494</td>\n",
       "      <td>79.3139</td>\n",
       "      <td>10451923</td>\n",
       "      <td>4</td>\n",
       "      <td>Mirzapur, Uttar Pradesh, India</td>\n",
       "      <td>IN</td>\n",
       "      <td>IN36</td>\n",
       "      <td>17924.0</td>\n",
       "      <td>27.2494</td>\n",
       "      <td>79.3139</td>\n",
       "      <td>10451923</td>\n",
       "      <td>20200101070000</td>\n",
       "      <td>https://www.mid-day.com/articles/mentalhood-ta...</td>\n",
       "      <td>mentalhood tandav the family man 2 breathe 2 s...</td>\n",
       "      <td>\\nMentalhood, Tandav, The Family Man 2, Breath...</td>\n",
       "      <td>Mirzapur 2Cast: Ali Fazal, Shweta Tripathi, Ra...</td>\n",
       "      <td>Mirzapur 2Cast: Ali Fazal, Shweta Tripathi, Ra...</td>\n",
       "      <td>Irrelevant</td>\n",
       "    </tr>\n",
       "    <tr>\n",
       "      <th>2</th>\n",
       "      <td>2</td>\n",
       "      <td>2</td>\n",
       "      <td>34788</td>\n",
       "      <td>896095544</td>\n",
       "      <td>19200101</td>\n",
       "      <td>192001</td>\n",
       "      <td>1920</td>\n",
       "      <td>1920.0027</td>\n",
       "      <td>COP</td>\n",
       "      <td>POLICE</td>\n",
       "      <td>NaN</td>\n",
       "      <td>NaN</td>\n",
       "      <td>NaN</td>\n",
       "      <td>NaN</td>\n",
       "      <td>NaN</td>\n",
       "      <td>COP</td>\n",
       "      <td>NaN</td>\n",
       "      <td>NaN</td>\n",
       "      <td>CVL</td>\n",
       "      <td>CITIZEN</td>\n",
       "      <td>NaN</td>\n",
       "      <td>NaN</td>\n",
       "      <td>NaN</td>\n",
       "      <td>NaN</td>\n",
       "      <td>NaN</td>\n",
       "      <td>CVL</td>\n",
       "      <td>NaN</td>\n",
       "      <td>NaN</td>\n",
       "      <td>1</td>\n",
       "      <td>51</td>\n",
       "      <td>Praise or endorse</td>\n",
       "      <td>51</td>\n",
       "      <td>5</td>\n",
       "      <td>1</td>\n",
       "      <td>3.4</td>\n",
       "      <td>2</td>\n",
       "      <td>1</td>\n",
       "      <td>2</td>\n",
       "      <td>2.970297</td>\n",
       "      <td>4</td>\n",
       "      <td>Nagpur, Maharashtra, India</td>\n",
       "      <td>IN</td>\n",
       "      <td>IN16</td>\n",
       "      <td>17784.0</td>\n",
       "      <td>21.1500</td>\n",
       "      <td>79.1000</td>\n",
       "      <td>-2105396</td>\n",
       "      <td>4</td>\n",
       "      <td>Nagpur, Maharashtra, India</td>\n",
       "      <td>IN</td>\n",
       "      <td>IN16</td>\n",
       "      <td>17784.0</td>\n",
       "      <td>21.1500</td>\n",
       "      <td>79.1000</td>\n",
       "      <td>-2105396</td>\n",
       "      <td>4</td>\n",
       "      <td>Nagpur, Maharashtra, India</td>\n",
       "      <td>IN</td>\n",
       "      <td>IN16</td>\n",
       "      <td>17784.0</td>\n",
       "      <td>21.1500</td>\n",
       "      <td>79.1000</td>\n",
       "      <td>-2105396</td>\n",
       "      <td>20200101081500</td>\n",
       "      <td>https://www.nagpurtoday.in/in-pic-nagpur-polic...</td>\n",
       "      <td>in pic nagpur police extend new years greeting...</td>\n",
       "      <td>In Pic: Nagpur Police extend New Year's greeti...</td>\n",
       "      <td>Nagpur: Amid cloudy day and chilling night the...</td>\n",
       "      <td>Nagpur: Amid cloudy day and chilling night the...</td>\n",
       "      <td>Irrelevant</td>\n",
       "    </tr>\n",
       "    <tr>\n",
       "      <th>3</th>\n",
       "      <td>3</td>\n",
       "      <td>3</td>\n",
       "      <td>35500</td>\n",
       "      <td>896092971</td>\n",
       "      <td>19200101</td>\n",
       "      <td>192001</td>\n",
       "      <td>1920</td>\n",
       "      <td>1920.0027</td>\n",
       "      <td>COP</td>\n",
       "      <td>POLICE</td>\n",
       "      <td>NaN</td>\n",
       "      <td>NaN</td>\n",
       "      <td>NaN</td>\n",
       "      <td>NaN</td>\n",
       "      <td>NaN</td>\n",
       "      <td>COP</td>\n",
       "      <td>NaN</td>\n",
       "      <td>NaN</td>\n",
       "      <td>CRM</td>\n",
       "      <td>DEALER</td>\n",
       "      <td>NaN</td>\n",
       "      <td>NaN</td>\n",
       "      <td>NaN</td>\n",
       "      <td>NaN</td>\n",
       "      <td>NaN</td>\n",
       "      <td>CRM</td>\n",
       "      <td>NaN</td>\n",
       "      <td>NaN</td>\n",
       "      <td>1</td>\n",
       "      <td>10</td>\n",
       "      <td>Make statement, not specified below</td>\n",
       "      <td>10</td>\n",
       "      <td>1</td>\n",
       "      <td>1</td>\n",
       "      <td>0.0</td>\n",
       "      <td>4</td>\n",
       "      <td>1</td>\n",
       "      <td>4</td>\n",
       "      <td>4.624277</td>\n",
       "      <td>4</td>\n",
       "      <td>Pune, Maharashtra, India</td>\n",
       "      <td>IN</td>\n",
       "      <td>IN16</td>\n",
       "      <td>70178.0</td>\n",
       "      <td>18.5333</td>\n",
       "      <td>73.8667</td>\n",
       "      <td>-2108361</td>\n",
       "      <td>4</td>\n",
       "      <td>Pune, Maharashtra, India</td>\n",
       "      <td>IN</td>\n",
       "      <td>IN16</td>\n",
       "      <td>70178.0</td>\n",
       "      <td>18.5333</td>\n",
       "      <td>73.8667</td>\n",
       "      <td>-2108361</td>\n",
       "      <td>4</td>\n",
       "      <td>Pune, Maharashtra, India</td>\n",
       "      <td>IN</td>\n",
       "      <td>IN16</td>\n",
       "      <td>70178.0</td>\n",
       "      <td>18.5333</td>\n",
       "      <td>73.8667</td>\n",
       "      <td>-2108361</td>\n",
       "      <td>20200101074500</td>\n",
       "      <td>https://www.timesnownews.com/the-buzz/article/...</td>\n",
       "      <td>man asks for some drugs in exchange for dealer...</td>\n",
       "      <td>\\n\\n\\nPune Police Twitter | Man asks for some ...</td>\n",
       "      <td>Pune police's witty response to man wins Twitt...</td>\n",
       "      <td>Pune police's witty response to man wins Twitt...</td>\n",
       "      <td>Irrelevant</td>\n",
       "    </tr>\n",
       "    <tr>\n",
       "      <th>4</th>\n",
       "      <td>4</td>\n",
       "      <td>4</td>\n",
       "      <td>47722</td>\n",
       "      <td>896113974</td>\n",
       "      <td>19200101</td>\n",
       "      <td>192001</td>\n",
       "      <td>1920</td>\n",
       "      <td>1920.0027</td>\n",
       "      <td>HLH</td>\n",
       "      <td>NURSE</td>\n",
       "      <td>NaN</td>\n",
       "      <td>NaN</td>\n",
       "      <td>NaN</td>\n",
       "      <td>NaN</td>\n",
       "      <td>NaN</td>\n",
       "      <td>HLH</td>\n",
       "      <td>NaN</td>\n",
       "      <td>NaN</td>\n",
       "      <td>IND</td>\n",
       "      <td>DELHI</td>\n",
       "      <td>IND</td>\n",
       "      <td>NaN</td>\n",
       "      <td>NaN</td>\n",
       "      <td>NaN</td>\n",
       "      <td>NaN</td>\n",
       "      <td>NaN</td>\n",
       "      <td>NaN</td>\n",
       "      <td>NaN</td>\n",
       "      <td>1</td>\n",
       "      <td>40</td>\n",
       "      <td>Consult, not specified below</td>\n",
       "      <td>40</td>\n",
       "      <td>4</td>\n",
       "      <td>1</td>\n",
       "      <td>1.0</td>\n",
       "      <td>2</td>\n",
       "      <td>1</td>\n",
       "      <td>2</td>\n",
       "      <td>-4.068858</td>\n",
       "      <td>4</td>\n",
       "      <td>Delhi, Delhi, India</td>\n",
       "      <td>IN</td>\n",
       "      <td>IN07</td>\n",
       "      <td>17911.0</td>\n",
       "      <td>28.6667</td>\n",
       "      <td>77.2167</td>\n",
       "      <td>-2094230</td>\n",
       "      <td>4</td>\n",
       "      <td>Delhi, Delhi, India</td>\n",
       "      <td>IN</td>\n",
       "      <td>IN07</td>\n",
       "      <td>17911.0</td>\n",
       "      <td>28.6667</td>\n",
       "      <td>77.2167</td>\n",
       "      <td>-2094230</td>\n",
       "      <td>4</td>\n",
       "      <td>Delhi, Delhi, India</td>\n",
       "      <td>IN</td>\n",
       "      <td>IN07</td>\n",
       "      <td>17911.0</td>\n",
       "      <td>28.6667</td>\n",
       "      <td>77.2167</td>\n",
       "      <td>-2094230</td>\n",
       "      <td>20200101114500</td>\n",
       "      <td>https://medicaldialogues.in/icmr-aiims-emergen...</td>\n",
       "      <td>icmr aiims emergency mobile service initiative...</td>\n",
       "      <td>ICMR-AIIMS emergency mobile service initiative...</td>\n",
       "      <td>New Delhi: People living within a 5-km radius ...</td>\n",
       "      <td>New Delhi: People living within a 5-km radius ...</td>\n",
       "      <td>Irrelevant</td>\n",
       "    </tr>\n",
       "  </tbody>\n",
       "</table>\n",
       "</div>"
      ],
      "text/plain": [
       "   Unnamed: 0  ...   lab_final\n",
       "0           0  ...  Irrelevant\n",
       "1           1  ...  Irrelevant\n",
       "2           2  ...  Irrelevant\n",
       "3           3  ...  Irrelevant\n",
       "4           4  ...  Irrelevant\n",
       "\n",
       "[5 rows x 70 columns]"
      ]
     },
     "execution_count": 7,
     "metadata": {
      "tags": []
     },
     "output_type": "execute_result"
    }
   ],
   "source": [
    "df.head()"
   ]
  },
  {
   "cell_type": "code",
   "execution_count": 0,
   "metadata": {
    "colab": {
     "base_uri": "https://localhost:8080/",
     "height": 306
    },
    "colab_type": "code",
    "id": "ytKNIu4VCkPg",
    "outputId": "07cc919b-7758-455b-cc36-abfc7a31fdd5"
   },
   "outputs": [
    {
     "data": {
      "text/plain": [
       "Irrelevant                            4207\n",
       "Case_progress                          289\n",
       "Harassment                             235\n",
       "DV                                     233\n",
       "Measures                               154\n",
       "Verbal_Online_Harassment                52\n",
       "MurderSuicide                           41\n",
       "DVHarassment                             4\n",
       "HarassmentMurderSuicide                  3\n",
       "MurderSuicideHarassment                  2\n",
       "Verbal_Online_HarassmentHarassment       2\n",
       "DVMurderSuicide                          1\n",
       "DVCase_progress                          1\n",
       "MeasuresCase_progress                    1\n",
       "HarassmentVerbal_Online_Harassment       1\n",
       "HarassmentDV                             1\n",
       "Name: lab_final, dtype: int64"
      ]
     },
     "execution_count": 8,
     "metadata": {
      "tags": []
     },
     "output_type": "execute_result"
    }
   ],
   "source": [
    "df['lab_final'].value_counts()"
   ]
  },
  {
   "cell_type": "code",
   "execution_count": 0,
   "metadata": {
    "colab": {},
    "colab_type": "code",
    "id": "tMK0bpdQUqr1"
   },
   "outputs": [],
   "source": [
    "df.loc[df['lab_final']=='DVMurderSuicide','lab_final']='DV'\n",
    "df.loc[df['lab_final']=='DVCase_progress','lab_final']='DV'\n",
    "df.loc[df['lab_final']=='MeasuresCase_progress','lab_final']='Measures'\n",
    "df.loc[df['lab_final']=='Verbal_Online_HarassmentHarassment','lab_final']='Verbal_Online_Harassment'\n",
    "df.loc[df['lab_final']=='HarassmentVerbal_Online_Harassment','lab_final']='Verbal_Online_Harassment'\n",
    "df.loc[df['lab_final']=='DVHarassment','lab_final']='DV'\n",
    "df.loc[df['lab_final']=='HarassmentDV','lab_final']='DV'\n",
    "df.loc[df['lab_final']=='HarassmentMurderSuicide','lab_final']='MurderSuicide'\n",
    "df.loc[df['lab_final']=='MurderSuicideHarassment','lab_final']='MurderSuicide'"
   ]
  },
  {
   "cell_type": "code",
   "execution_count": 5,
   "metadata": {
    "colab": {
     "base_uri": "https://localhost:8080/",
     "height": 153
    },
    "colab_type": "code",
    "id": "h06Kpd5MgkMQ",
    "outputId": "5d5c28a2-c1fc-415d-ae37-898b1f0bb7cf"
   },
   "outputs": [
    {
     "data": {
      "text/plain": [
       "Irrelevant                  4207\n",
       "Case_progress                289\n",
       "DV                           240\n",
       "Harassment                   235\n",
       "Measures                     155\n",
       "Verbal_Online_Harassment      55\n",
       "MurderSuicide                 46\n",
       "Name: lab_final, dtype: int64"
      ]
     },
     "execution_count": 5,
     "metadata": {
      "tags": []
     },
     "output_type": "execute_result"
    }
   ],
   "source": [
    "df['lab_final'].value_counts()"
   ]
  },
  {
   "cell_type": "code",
   "execution_count": 6,
   "metadata": {
    "colab": {
     "base_uri": "https://localhost:8080/",
     "height": 71
    },
    "colab_type": "code",
    "id": "672y712SpYrV",
    "outputId": "b0d89eb4-9df7-46cb-881e-5b6f87219fbd"
   },
   "outputs": [
    {
     "name": "stderr",
     "output_type": "stream",
     "text": [
      "/usr/local/lib/python3.6/dist-packages/statsmodels/tools/_testing.py:19: FutureWarning: pandas.util.testing is deprecated. Use the functions in the public API at pandas.testing instead.\n",
      "  import pandas.util.testing as tm\n"
     ]
    }
   ],
   "source": [
    "import matplotlib.pyplot as plt\n",
    "import seaborn as sns"
   ]
  },
  {
   "cell_type": "code",
   "execution_count": 0,
   "metadata": {
    "colab": {},
    "colab_type": "code",
    "id": "CLALn2Hl4BI3"
   },
   "outputs": [],
   "source": [
    "dummies = pd.get_dummies(df['lab_final'])\n",
    "df = pd.concat([df, dummies], axis =1)"
   ]
  },
  {
   "cell_type": "code",
   "execution_count": 0,
   "metadata": {
    "colab": {
     "base_uri": "https://localhost:8080/",
     "height": 187
    },
    "colab_type": "code",
    "id": "jVnglUsH6TfH",
    "outputId": "6ddc79b7-74ac-46ea-b613-e8229618e93f"
   },
   "outputs": [
    {
     "data": {
      "text/plain": [
       "NON_D_VIOLENCE_ABOUT       3748\n",
       "NO_VIOLENCE                1302\n",
       "NON_D_VIOLENCE_DIRECTED     608\n",
       "DV_OPINION_ADVOCATE         192\n",
       "DV_OPINION_INFO_NEWS         94\n",
       "DV_STORY                     58\n",
       "DV_OPINION_NEWS_INFO         40\n",
       "UNKNOWN                      24\n",
       "DV_OPINION_DENIER            16\n",
       "Name: lab_final, dtype: int64"
      ]
     },
     "execution_count": 65,
     "metadata": {
      "tags": []
     },
     "output_type": "execute_result"
    }
   ],
   "source": [
    "df['lab_final'].value_counts()"
   ]
  },
  {
   "cell_type": "code",
   "execution_count": 0,
   "metadata": {
    "colab": {},
    "colab_type": "code",
    "id": "3JiBzw6Q0jP2"
   },
   "outputs": [],
   "source": [
    "from sklearn.model_selection import train_test_split"
   ]
  },
  {
   "cell_type": "code",
   "execution_count": 0,
   "metadata": {
    "colab": {},
    "colab_type": "code",
    "id": "rbY6SA860vvC"
   },
   "outputs": [],
   "source": [
    "# \n",
    "df=df[['summary_wrap','lab_final']]"
   ]
  },
  {
   "cell_type": "code",
   "execution_count": 0,
   "metadata": {
    "colab": {},
    "colab_type": "code",
    "id": "MKzikOHm2KTY"
   },
   "outputs": [],
   "source": [
    "from sklearn.model_selection import train_test_split\n",
    "X_train, X_test, y_train, y_test = train_test_split(\n",
    "   df['summary_wrap'], df['lab_final'], test_size=0.33, random_state=42)"
   ]
  },
  {
   "cell_type": "code",
   "execution_count": 11,
   "metadata": {
    "colab": {
     "base_uri": "https://localhost:8080/",
     "height": 34
    },
    "colab_type": "code",
    "id": "ZtOGE1a816Bw",
    "outputId": "3e30e30b-ab82-44da-95da-fbff26f4a0b2"
   },
   "outputs": [
    {
     "data": {
      "text/plain": [
       "(3502, 20858)"
      ]
     },
     "execution_count": 11,
     "metadata": {
      "tags": []
     },
     "output_type": "execute_result"
    }
   ],
   "source": [
    "from sklearn.feature_extraction.text import CountVectorizer\n",
    "count_vectorizer = CountVectorizer()\n",
    "x_train_count = count_vectorizer.fit_transform(X_train)\n",
    "x_train_count.shape"
   ]
  },
  {
   "cell_type": "code",
   "execution_count": 12,
   "metadata": {
    "colab": {
     "base_uri": "https://localhost:8080/",
     "height": 34
    },
    "colab_type": "code",
    "id": "LIiljSL2__pi",
    "outputId": "3e82a1d9-4b60-4a55-fb2d-d5a7ef148aa9"
   },
   "outputs": [
    {
     "data": {
      "text/plain": [
       "(3502, 20858)"
      ]
     },
     "execution_count": 12,
     "metadata": {
      "tags": []
     },
     "output_type": "execute_result"
    }
   ],
   "source": [
    "from sklearn.feature_extraction.text import TfidfTransformer\n",
    "tfidf = TfidfTransformer()\n",
    "x_train_tfidf = tfidf.fit_transform(x_train_count)\n",
    "x_train_tfidf.shape\n"
   ]
  },
  {
   "cell_type": "code",
   "execution_count": 0,
   "metadata": {
    "colab": {},
    "colab_type": "code",
    "id": "MW4MPJ4sCi_N"
   },
   "outputs": [],
   "source": [
    "from sklearn.pipeline import  Pipeline\n",
    "from sklearn.naive_bayes import MultinomialNB\n",
    "clf = MultinomialNB().fit(x_train_tfidf, y_train)\n",
    "text_clf = Pipeline([('vect', CountVectorizer()),\n",
    "                     ('tfidf', TfidfTransformer()),\n",
    "                     ('clf', MultinomialNB())])\n",
    "\n",
    "text_clf = text_clf.fit(X_train, y_train)"
   ]
  },
  {
   "cell_type": "code",
   "execution_count": 14,
   "metadata": {
    "colab": {
     "base_uri": "https://localhost:8080/",
     "height": 51
    },
    "colab_type": "code",
    "id": "-5dP5A_3Eqn7",
    "outputId": "704d1790-c065-4ff7-a7c0-9ab36c86f71d"
   },
   "outputs": [
    {
     "data": {
      "text/plain": [
       "array(['Irrelevant', 'Irrelevant', 'Irrelevant', ..., 'Irrelevant',\n",
       "       'Irrelevant', 'Irrelevant'], dtype='<U24')"
      ]
     },
     "execution_count": 14,
     "metadata": {
      "tags": []
     },
     "output_type": "execute_result"
    }
   ],
   "source": [
    "predictions = text_clf.predict(X_test)\n",
    "predictions"
   ]
  },
  {
   "cell_type": "code",
   "execution_count": 15,
   "metadata": {
    "colab": {
     "base_uri": "https://localhost:8080/",
     "height": 51
    },
    "colab_type": "code",
    "id": "yocUPF7kGFv3",
    "outputId": "926e15dc-81b4-4582-c266-ebc2e54cccf8"
   },
   "outputs": [
    {
     "name": "stdout",
     "output_type": "stream",
     "text": [
      "0.8023188405797101\n",
      "0.7148936051117899\n"
     ]
    }
   ],
   "source": [
    "from sklearn.metrics import f1_score, accuracy_score\n",
    "accuracy = accuracy_score(y_test,predictions)\n",
    "print(accuracy)\n",
    "\n",
    "f1 = f1_score(y_test,predictions,average='weighted')\n",
    "print(f1)"
   ]
  },
  {
   "cell_type": "code",
   "execution_count": 16,
   "metadata": {
    "colab": {
     "base_uri": "https://localhost:8080/",
     "height": 34
    },
    "colab_type": "code",
    "id": "tAUSZlHUGXIZ",
    "outputId": "62955e98-707c-4fc5-cabf-2825db0b1245"
   },
   "outputs": [
    {
     "name": "stdout",
     "output_type": "stream",
     "text": [
      "SVM score it is: 0.8445073195179927\n"
     ]
    }
   ],
   "source": [
    "from sklearn.linear_model import SGDClassifier\n",
    "text_clf_svm = Pipeline([('cvec', CountVectorizer()),\n",
    "                         ('tfidf', TfidfTransformer()),\n",
    "                         ('clf-svm', SGDClassifier(loss='hinge', penalty='l2',alpha=1e-3, random_state=42))])\n",
    "text_clf_svm = text_clf_svm.fit(X_train, y_train)\n",
    "predictions_svm = text_clf_svm.predict(X_test)\n",
    "\n",
    "f1_score_svm = f1_score(y_test, predictions_svm, average = 'weighted')\n",
    "print(f'SVM score it is: {f1_score_svm}')"
   ]
  },
  {
   "cell_type": "code",
   "execution_count": 17,
   "metadata": {
    "colab": {
     "base_uri": "https://localhost:8080/",
     "height": 34
    },
    "colab_type": "code",
    "id": "DKxernJTTFjU",
    "outputId": "98b6294a-558f-426d-b2af-67f8ede0ac54"
   },
   "outputs": [
    {
     "data": {
      "text/plain": [
       "array(['Irrelevant'], dtype='<U24')"
      ]
     },
     "execution_count": 17,
     "metadata": {
      "tags": []
     },
     "output_type": "execute_result"
    }
   ],
   "source": [
    "sentence = 'The fact their might be so many marital rape and other sexual assaults within homes taking place right now with a greater rate, and no one wont be talking about it bcz CORONA.'\n",
    "sample = text_clf_svm.predict([sentence])\n",
    "sample"
   ]
  },
  {
   "cell_type": "code",
   "execution_count": 18,
   "metadata": {
    "colab": {
     "base_uri": "https://localhost:8080/",
     "height": 241
    },
    "colab_type": "code",
    "id": "aWY7dkBKUBEV",
    "outputId": "dd290d1d-855c-48cd-d957-db32bd3b704f"
   },
   "outputs": [
    {
     "name": "stdout",
     "output_type": "stream",
     "text": [
      "Collecting imbalanced-learn\n",
      "\u001b[?25l  Downloading https://files.pythonhosted.org/packages/c8/73/36a13185c2acff44d601dc6107b5347e075561a49e15ddd4e69988414c3e/imbalanced_learn-0.6.2-py3-none-any.whl (163kB)\n",
      "\r",
      "\u001b[K     |██                              | 10kB 18.1MB/s eta 0:00:01\r",
      "\u001b[K     |████                            | 20kB 1.5MB/s eta 0:00:01\r",
      "\u001b[K     |██████                          | 30kB 2.0MB/s eta 0:00:01\r",
      "\u001b[K     |████████                        | 40kB 1.6MB/s eta 0:00:01\r",
      "\u001b[K     |██████████                      | 51kB 1.9MB/s eta 0:00:01\r",
      "\u001b[K     |████████████                    | 61kB 2.1MB/s eta 0:00:01\r",
      "\u001b[K     |██████████████                  | 71kB 2.3MB/s eta 0:00:01\r",
      "\u001b[K     |████████████████                | 81kB 2.5MB/s eta 0:00:01\r",
      "\u001b[K     |██████████████████              | 92kB 2.7MB/s eta 0:00:01\r",
      "\u001b[K     |████████████████████            | 102kB 2.6MB/s eta 0:00:01\r",
      "\u001b[K     |██████████████████████          | 112kB 2.6MB/s eta 0:00:01\r",
      "\u001b[K     |████████████████████████▏       | 122kB 2.6MB/s eta 0:00:01\r",
      "\u001b[K     |██████████████████████████▏     | 133kB 2.6MB/s eta 0:00:01\r",
      "\u001b[K     |████████████████████████████▏   | 143kB 2.6MB/s eta 0:00:01\r",
      "\u001b[K     |██████████████████████████████▏ | 153kB 2.6MB/s eta 0:00:01\r",
      "\u001b[K     |████████████████████████████████| 163kB 2.6MB/s \n",
      "\u001b[?25hRequirement already satisfied, skipping upgrade: joblib>=0.11 in /usr/local/lib/python3.6/dist-packages (from imbalanced-learn) (0.15.1)\n",
      "Requirement already satisfied, skipping upgrade: scikit-learn>=0.22 in /usr/local/lib/python3.6/dist-packages (from imbalanced-learn) (0.22.2.post1)\n",
      "Requirement already satisfied, skipping upgrade: scipy>=0.17 in /usr/local/lib/python3.6/dist-packages (from imbalanced-learn) (1.4.1)\n",
      "Requirement already satisfied, skipping upgrade: numpy>=1.11 in /usr/local/lib/python3.6/dist-packages (from imbalanced-learn) (1.18.4)\n",
      "Installing collected packages: imbalanced-learn\n",
      "  Found existing installation: imbalanced-learn 0.4.3\n",
      "    Uninstalling imbalanced-learn-0.4.3:\n",
      "      Successfully uninstalled imbalanced-learn-0.4.3\n",
      "Successfully installed imbalanced-learn-0.6.2\n"
     ]
    }
   ],
   "source": [
    "pip install -U imbalanced-learn"
   ]
  },
  {
   "cell_type": "code",
   "execution_count": 19,
   "metadata": {
    "colab": {
     "base_uri": "https://localhost:8080/",
     "height": 34
    },
    "colab_type": "code",
    "id": "BTekjXEAWwQc",
    "outputId": "7b176ca9-53ab-4c80-cb83-e8924ae786eb"
   },
   "outputs": [
    {
     "data": {
      "text/plain": [
       "((3502,), (1725,))"
      ]
     },
     "execution_count": 19,
     "metadata": {
      "tags": []
     },
     "output_type": "execute_result"
    }
   ],
   "source": [
    "X_train.shape, X_test.shape"
   ]
  },
  {
   "cell_type": "code",
   "execution_count": 20,
   "metadata": {
    "colab": {
     "base_uri": "https://localhost:8080/",
     "height": 34
    },
    "colab_type": "code",
    "id": "HemGRkrCUDub",
    "outputId": "4d768f86-74c0-4501-eff6-1e2907e05d61"
   },
   "outputs": [
    {
     "name": "stderr",
     "output_type": "stream",
     "text": [
      "Using TensorFlow backend.\n"
     ]
    }
   ],
   "source": [
    "from sklearn.pipeline import make_pipeline\n",
    "from imblearn.over_sampling import RandomOverSampler\n",
    "from imblearn.pipeline import make_pipeline as make_pipeline_imb\n",
    "from imblearn.metrics import classification_report_imbalanced\n",
    "from sklearn.feature_extraction.text import TfidfVectorizer\n",
    "pipe = make_pipeline_imb(TfidfVectorizer(),\n",
    "                         RandomOverSampler(),\n",
    "                         MultinomialNB())\n",
    "\n",
    "pipe.fit(X_train, y_train)\n",
    "y_pred = pipe.predict(X_test)"
   ]
  },
  {
   "cell_type": "code",
   "execution_count": 21,
   "metadata": {
    "colab": {
     "base_uri": "https://localhost:8080/",
     "height": 51
    },
    "colab_type": "code",
    "id": "p-75cBdxXGL4",
    "outputId": "fe8695cd-e35c-4b8b-c57c-4fd8e8e89393"
   },
   "outputs": [
    {
     "name": "stdout",
     "output_type": "stream",
     "text": [
      "0.8127536231884058\n",
      "0.8366851874517364\n"
     ]
    }
   ],
   "source": [
    "accuracy = accuracy_score(y_test,y_pred)\n",
    "print(accuracy)\n",
    "\n",
    "f1 = f1_score(y_test,y_pred,average='weighted')\n",
    "print(f1)"
   ]
  },
  {
   "cell_type": "code",
   "execution_count": 22,
   "metadata": {
    "colab": {
     "base_uri": "https://localhost:8080/",
     "height": 221
    },
    "colab_type": "code",
    "id": "mxl77c6IGhYK",
    "outputId": "2dfe6928-f394-4bf2-cf30-bb5e3b996e2c"
   },
   "outputs": [
    {
     "name": "stdout",
     "output_type": "stream",
     "text": [
      "                                pre       rec       spe        f1       geo       iba       sup\n",
      "\n",
      "           Case_progress       0.54      0.80      0.96      0.64      0.87      0.75        93\n",
      "                      DV       0.44      0.80      0.95      0.57      0.87      0.75        79\n",
      "              Harassment       0.35      0.73      0.94      0.48      0.83      0.67        79\n",
      "              Irrelevant       1.00      0.84      0.99      0.91      0.91      0.81      1383\n",
      "                Measures       0.47      0.63      0.97      0.54      0.78      0.59        59\n",
      "           MurderSuicide       0.25      0.46      0.99      0.32      0.68      0.43        13\n",
      "Verbal_Online_Harassment       0.47      0.37      1.00      0.41      0.61      0.34        19\n",
      "\n",
      "             avg / total       0.89      0.81      0.98      0.84      0.89      0.78      1725\n",
      "\n"
     ]
    }
   ],
   "source": [
    "print(classification_report_imbalanced(y_test, y_pred))"
   ]
  },
  {
   "cell_type": "code",
   "execution_count": 0,
   "metadata": {
    "colab": {},
    "colab_type": "code",
    "id": "UEOPh6ytHzLr"
   },
   "outputs": [],
   "source": []
  },
  {
   "cell_type": "code",
   "execution_count": 23,
   "metadata": {
    "colab": {
     "base_uri": "https://localhost:8080/",
     "height": 34
    },
    "colab_type": "code",
    "id": "Sb8I0rU4XzaW",
    "outputId": "1f498112-e014-4202-cb3d-71d3f4c737ae"
   },
   "outputs": [
    {
     "data": {
      "text/plain": [
       "array(['DV'], dtype='<U24')"
      ]
     },
     "execution_count": 23,
     "metadata": {
      "tags": []
     },
     "output_type": "execute_result"
    }
   ],
   "source": [
    "sentence = 'The fact their might be so many marital rape and other sexual assaults within homes taking place right now with a greater rate, and no one wont be talking about it bcz CORONA.'\n",
    "sample = pipe.predict([sentence])\n",
    "sample"
   ]
  },
  {
   "cell_type": "code",
   "execution_count": 103,
   "metadata": {
    "colab": {
     "base_uri": "https://localhost:8080/",
     "height": 561
    },
    "colab_type": "code",
    "id": "AFK7VzTMvYLc",
    "outputId": "9a4bad5c-85f9-4989-e90f-d261561613a4"
   },
   "outputs": [
    {
     "name": "stdout",
     "output_type": "stream",
     "text": [
      "GridSearchCV(cv=5, error_score=nan,\n",
      "             estimator=Pipeline(memory=None,\n",
      "                                steps=[('cv',\n",
      "                                        CountVectorizer(analyzer='word',\n",
      "                                                        binary=False,\n",
      "                                                        decode_error='strict',\n",
      "                                                        dtype=<class 'numpy.int64'>,\n",
      "                                                        encoding='utf-8',\n",
      "                                                        input='content',\n",
      "                                                        lowercase=True,\n",
      "                                                        max_df=1.0,\n",
      "                                                        max_features=None,\n",
      "                                                        min_df=1,\n",
      "                                                        ngram_range=(1, 1),\n",
      "                                                        preprocessor=None,\n",
      "                                                        stop_words=None,\n",
      "                                                        strip_accents=None,\n",
      "                                                        token_pattern='(?u)\\\\b\\\\w\\\\w+\\\\b',\n",
      "                                                        tokenizer=None,\n",
      "                                                        vocabulary=None)),\n",
      "                                       ('model',\n",
      "                                        MultinomialNB(alpha=1.0,\n",
      "                                                      class_prior=None,\n",
      "                                                      fit_prior=True))],\n",
      "                                verbose=False),\n",
      "             iid='deprecated', n_jobs=None,\n",
      "             param_grid={'cv__stop_words': [['and', 'is']]},\n",
      "             pre_dispatch='2*n_jobs', refit=True, return_train_score=False,\n",
      "             scoring=None, verbose=0)\n",
      "{'cv__stop_words': ['and', 'is']}\n",
      "Train Score:  0.8719\n",
      "Train Score:  0.873\n"
     ]
    }
   ],
   "source": [
    "import pandas as pd\n",
    "import numpy as np\n",
    "\n",
    "from sklearn.pipeline import Pipeline, make_pipeline, FeatureUnion\n",
    "from sklearn.feature_extraction.text import CountVectorizer\n",
    "from sklearn.base import BaseEstimator, ClassifierMixin\n",
    "from sklearn.linear_model import LogisticRegression\n",
    "from sklearn.model_selection import cross_val_score,train_test_split,GridSearchCV\n",
    "\n",
    "\n",
    "from sklearn.naive_bayes import MultinomialNB\n",
    "from sklearn.ensemble import RandomForestClassifier,BaggingClassifier,ExtraTreesClassifier\n",
    "from sklearn.tree import DecisionTreeClassifier\n",
    "\n",
    "import numpy as np\n",
    "import matplotlib.pyplot as plt\n",
    "\n",
    "\n",
    "#Preparing data\n",
    "X = df['summary_wrap']\n",
    "y = df['lab_final']\n",
    "X_train, X_test, y_train, y_test = train_test_split(X,y,stratify=y,random_state=42)\n",
    "cv = CountVectorizer()\n",
    "model_mult_nb = MultinomialNB()\n",
    "alphas = np.linspace(0,2,20)[1:]\n",
    "\n",
    "pipe1 = Pipeline([('cv',cv),\n",
    "                ('model',model_mult_nb)\n",
    "])\n",
    "params = {'cv__stop_words': [['and','is',]]#,'civic','accord','camry','corolla','highlander']],\n",
    "#           'cv__max_features':[4000,5000,6000,None],\n",
    "#          'cv__ngram_range': [(1,1)],\n",
    "#          'cv__min_df': [1,5,10,15],\n",
    "#          'cv__max_df':[0.10,0.15,0.2,0.3],\n",
    "#           'model__alpha' : alphas\n",
    "    }\n",
    "gs = GridSearchCV(pipe1, param_grid=params,cv=5)\n",
    "print(gs.fit(X_train,y_train))\n",
    "print(gs.best_params_)\n",
    "print(\"Train Score: \", round(gs.best_score_,4))\n",
    "print(\"Train Score: \", round(gs.score(X_test,y_test),4))\n"
   ]
  },
  {
   "cell_type": "code",
   "execution_count": 0,
   "metadata": {
    "colab": {},
    "colab_type": "code",
    "id": "TB3ts22_w4_8"
   },
   "outputs": [],
   "source": [
    "vectorizer = CountVectorizer(stop_words=['and','is'])\n",
    "X_train_title_vec = vectorizer.fit_transform(X_train)\n",
    "X_test_title_vec = vectorizer.transform(X_test)\n"
   ]
  },
  {
   "cell_type": "code",
   "execution_count": 72,
   "metadata": {
    "colab": {
     "base_uri": "https://localhost:8080/",
     "height": 34
    },
    "colab_type": "code",
    "id": "dL-n8QWoxMGr",
    "outputId": "ba866a0a-6326-427b-f25a-f857016ed92b"
   },
   "outputs": [
    {
     "name": "stdout",
     "output_type": "stream",
     "text": [
      "Dic Size: 22218\n"
     ]
    }
   ],
   "source": [
    "print(\"Dic Size:\", len(vectorizer.get_feature_names()))"
   ]
  },
  {
   "cell_type": "code",
   "execution_count": 74,
   "metadata": {
    "colab": {
     "base_uri": "https://localhost:8080/",
     "height": 561
    },
    "colab_type": "code",
    "id": "YulV0-6txdAc",
    "outputId": "6a9cb070-a24b-4c4c-903e-1d5476673064"
   },
   "outputs": [
    {
     "name": "stdout",
     "output_type": "stream",
     "text": [
      "GridSearchCV(cv=5, error_score=nan,\n",
      "             estimator=Pipeline(memory=None,\n",
      "                                steps=[('cv',\n",
      "                                        CountVectorizer(analyzer='word',\n",
      "                                                        binary=False,\n",
      "                                                        decode_error='strict',\n",
      "                                                        dtype=<class 'numpy.int64'>,\n",
      "                                                        encoding='utf-8',\n",
      "                                                        input='content',\n",
      "                                                        lowercase=True,\n",
      "                                                        max_df=1.0,\n",
      "                                                        max_features=None,\n",
      "                                                        min_df=1,\n",
      "                                                        ngram_range=(1, 1),\n",
      "                                                        preprocessor=None,\n",
      "                                                        stop_words=None,\n",
      "                                                        strip_accents=None,\n",
      "                                                        token_pattern='(?u)\\\\b\\\\w\\\\w+\\\\b',\n",
      "                                                        tokenizer=None,\n",
      "                                                        vocabulary=None)),\n",
      "                                       ('model',\n",
      "                                        MultinomialNB(alpha=1.0,\n",
      "                                                      class_prior=None,\n",
      "                                                      fit_prior=True))],\n",
      "                                verbose=False),\n",
      "             iid='deprecated', n_jobs=None,\n",
      "             param_grid={'cv__stop_words': [['and', 'is']]},\n",
      "             pre_dispatch='2*n_jobs', refit=True, return_train_score=False,\n",
      "             scoring=None, verbose=0)\n",
      "{'cv__stop_words': ['and', 'is']}\n",
      "Train Score:  0.8719\n",
      "Train Score:  0.873\n"
     ]
    }
   ],
   "source": [
    "cv = CountVectorizer()\n",
    "model_mult_nb = MultinomialNB()\n",
    "params = {'cv__stop_words': [['and','is']]}\n",
    "gs = GridSearchCV(pipe1, param_grid=params,cv=5)\n",
    "print(gs.fit(X_train,y_train))\n",
    "print(gs.best_params_)\n",
    "print(\"Train Score: \", round(gs.best_score_,4))\n",
    "print(\"Train Score: \", round(gs.score(X_test,y_test),4))"
   ]
  },
  {
   "cell_type": "code",
   "execution_count": 115,
   "metadata": {
    "colab": {
     "base_uri": "https://localhost:8080/",
     "height": 68
    },
    "colab_type": "code",
    "id": "f4C6mfyIwwwn",
    "outputId": "f31328d0-5dec-4336-9957-fcb85c85de5f"
   },
   "outputs": [
    {
     "name": "stdout",
     "output_type": "stream",
     "text": [
      "Cross Val Score:  0.8497448979591837\n",
      "Train Score:  0.9995\n",
      "Train Score:  0.8638\n"
     ]
    }
   ],
   "source": [
    "vectorizer = CountVectorizer(stop_words=['and','is'])\n",
    "X_train_vec = vectorizer.fit_transform(X_train)\n",
    "X_test_vec = vectorizer.transform(X_test)\n",
    "rf = RandomForestClassifier(n_estimators=1000,random_state=42)\n",
    "rf.fit(X_train_vec,y_train)\n",
    "print(\"Cross Val Score: \",cross_val_score(rf,X_train_vec,y_train,cv=5).mean())\n",
    "print(\"Train Score: \", round(rf.score(X_train_vec,y_train),4))\n",
    "print(\"Train Score: \", round(rf.score(X_test_vec,y_test),4))"
   ]
  },
  {
   "cell_type": "code",
   "execution_count": 117,
   "metadata": {
    "colab": {
     "base_uri": "https://localhost:8080/",
     "height": 309
    },
    "colab_type": "code",
    "id": "D8OHsha25weu",
    "outputId": "842a8fd3-f040-4c20-b695-79e0cf9498f9"
   },
   "outputs": [
    {
     "name": "stdout",
     "output_type": "stream",
     "text": [
      "0.8638102524866106\n",
      "0.8291747596253548\n",
      "                                pre       rec       spe        f1       geo       iba       sup\n",
      "\n",
      "           Case_progress       0.88      0.60      1.00      0.71      0.77      0.57        72\n",
      "                      DV       0.78      0.12      1.00      0.20      0.34      0.11        60\n",
      "              Harassment       0.73      0.27      1.00      0.40      0.52      0.25        59\n",
      "              Irrelevant       0.87      1.00      0.36      0.93      0.60      0.39      1052\n",
      "                Measures       0.87      0.33      1.00      0.48      0.58      0.31        39\n",
      "           MurderSuicide       0.00      0.00      1.00      0.00      0.00      0.00        11\n",
      "Verbal_Online_Harassment       1.00      0.14      1.00      0.25      0.38      0.13        14\n",
      "\n",
      "             avg / total       0.85      0.86      0.49      0.83      0.59      0.37      1307\n",
      "\n"
     ]
    },
    {
     "name": "stderr",
     "output_type": "stream",
     "text": [
      "/usr/local/lib/python3.6/dist-packages/sklearn/metrics/_classification.py:1272: UndefinedMetricWarning: Precision and F-score are ill-defined and being set to 0.0 in labels with no predicted samples. Use `zero_division` parameter to control this behavior.\n",
      "  _warn_prf(average, modifier, msg_start, len(result))\n"
     ]
    }
   ],
   "source": [
    "y_pred=rf.predict(X_test_vec)\n",
    "accuracy = accuracy_score(y_test,y_pred)\n",
    "print(accuracy)\n",
    "\n",
    "f1 = f1_score(y_test,y_pred,average='weighted')\n",
    "print(f1)\n",
    "print(classification_report_imbalanced(y_test, y_pred))"
   ]
  },
  {
   "cell_type": "code",
   "execution_count": 77,
   "metadata": {
    "colab": {
     "base_uri": "https://localhost:8080/",
     "height": 68
    },
    "colab_type": "code",
    "id": "oFVCOHA4v3UY",
    "outputId": "622a4076-d05c-4546-8c8c-088c01495b4a"
   },
   "outputs": [
    {
     "name": "stdout",
     "output_type": "stream",
     "text": [
      "Cross Val Score:  0.851530612244898\n",
      "Train Score:  0.9995\n",
      "Test Score:  0.8676\n"
     ]
    }
   ],
   "source": [
    "vectorizer = CountVectorizer(stop_words=['and','is'])\n",
    "X_train_vec = vectorizer.fit_transform(X_train)\n",
    "X_test_vec = vectorizer.transform(X_test)\n",
    "et = ExtraTreesClassifier(random_state=42)\n",
    "et.fit(X_train_vec,y_train)\n",
    "print(\"Cross Val Score: \",cross_val_score(rf,X_train_vec,y_train,cv=5).mean())\n",
    "print(\"Train Score: \", round(et.score(X_train_vec,y_train),4))\n",
    "print(\"Test Score: \", round(et.score(X_test_vec,y_test),4))"
   ]
  },
  {
   "cell_type": "code",
   "execution_count": 78,
   "metadata": {
    "colab": {
     "base_uri": "https://localhost:8080/",
     "height": 68
    },
    "colab_type": "code",
    "id": "I_FlaAZGxz7F",
    "outputId": "926f8096-97b4-441b-8be3-bc2ebf27e1fc"
   },
   "outputs": [
    {
     "name": "stdout",
     "output_type": "stream",
     "text": [
      "Cross Val Score:  0.8650510204081632\n",
      "Train Score:  0.9543367346938776\n",
      "Test Score:  0.8867635807192042\n"
     ]
    }
   ],
   "source": [
    "vectorizer = CountVectorizer(stop_words=['and','is'])\n",
    "X_train_vec = vectorizer.fit_transform(X_train)\n",
    "X_test_vec = vectorizer.transform(X_test)\n",
    "\n",
    "bagged = BaggingClassifier(base_estimator=DecisionTreeClassifier(random_state=42)\n",
    "                            ,max_samples=0.5, max_features=0.5)\n",
    "bagged.fit(X_train_vec,y_train)\n",
    "print(\"Cross Val Score: \",cross_val_score(bagged,X_train_vec,y_train,cv=5).mean())\n",
    "print(\"Train Score: \",bagged.score(X_train_vec,y_train))\n",
    "print(\"Test Score: \",bagged.score(X_test_vec,y_test))"
   ]
  },
  {
   "cell_type": "code",
   "execution_count": 83,
   "metadata": {
    "colab": {
     "base_uri": "https://localhost:8080/",
     "height": 71
    },
    "colab_type": "code",
    "id": "6P00OX6Nyo6_",
    "outputId": "25fc87b2-f57a-4a5c-c69f-7bfaad78de4c"
   },
   "outputs": [
    {
     "data": {
      "text/plain": [
       "array(['Irrelevant', 'Irrelevant', 'Irrelevant', 'Irrelevant', ..., 'Irrelevant', 'Irrelevant', 'Irrelevant',\n",
       "       'Irrelevant'], dtype=object)"
      ]
     },
     "execution_count": 83,
     "metadata": {
      "tags": []
     },
     "output_type": "execute_result"
    }
   ],
   "source": [
    "predictions = rf.predict(X_test_vec)\n",
    "predictions"
   ]
  },
  {
   "cell_type": "code",
   "execution_count": 84,
   "metadata": {
    "colab": {
     "base_uri": "https://localhost:8080/",
     "height": 51
    },
    "colab_type": "code",
    "id": "drKrrQAbycVZ",
    "outputId": "01f45657-6243-4f62-80b8-659fbca2ee04"
   },
   "outputs": [
    {
     "name": "stdout",
     "output_type": "stream",
     "text": [
      "0.846212700841622\n",
      "0.7989464741647327\n"
     ]
    }
   ],
   "source": [
    "from sklearn.metrics import f1_score, accuracy_score\n",
    "accuracy = accuracy_score(y_test,predictions)\n",
    "print(accuracy)\n",
    "\n",
    "f1 = f1_score(y_test,predictions,average='weighted')\n",
    "print(f1)"
   ]
  },
  {
   "cell_type": "code",
   "execution_count": 86,
   "metadata": {
    "colab": {
     "base_uri": "https://localhost:8080/",
     "height": 309
    },
    "colab_type": "code",
    "id": "rOVyjxt0y6Fi",
    "outputId": "644b9c71-ec28-4251-ad53-433334d5bec1"
   },
   "outputs": [
    {
     "name": "stdout",
     "output_type": "stream",
     "text": [
      "                          precision    recall  f1-score   support\n",
      "\n",
      "           Case_progress       0.88      0.50      0.64        72\n",
      "                      DV       0.60      0.05      0.09        60\n",
      "              Harassment       0.78      0.12      0.21        59\n",
      "              Irrelevant       0.85      1.00      0.91      1052\n",
      "                Measures       1.00      0.23      0.38        39\n",
      "           MurderSuicide       0.00      0.00      0.00        11\n",
      "Verbal_Online_Harassment       1.00      0.14      0.25        14\n",
      "\n",
      "                accuracy                           0.85      1307\n",
      "               macro avg       0.73      0.29      0.35      1307\n",
      "            weighted avg       0.83      0.85      0.80      1307\n",
      "\n"
     ]
    },
    {
     "name": "stderr",
     "output_type": "stream",
     "text": [
      "/usr/local/lib/python3.6/dist-packages/sklearn/metrics/_classification.py:1272: UndefinedMetricWarning: Precision and F-score are ill-defined and being set to 0.0 in labels with no predicted samples. Use `zero_division` parameter to control this behavior.\n",
      "  _warn_prf(average, modifier, msg_start, len(result))\n"
     ]
    }
   ],
   "source": [
    "from sklearn.metrics import classification_report\n",
    "print(classification_report(y_test, predictions))"
   ]
  },
  {
   "cell_type": "code",
   "execution_count": 88,
   "metadata": {
    "colab": {
     "base_uri": "https://localhost:8080/",
     "height": 343
    },
    "colab_type": "code",
    "id": "NrC_Cbnaz27Z",
    "outputId": "8d622845-4cf4-46ba-faee-667d757f9126"
   },
   "outputs": [
    {
     "name": "stdout",
     "output_type": "stream",
     "text": [
      "0.8867635807192042\n",
      "0.8709787432380971\n",
      "                          precision    recall  f1-score   support\n",
      "\n",
      "           Case_progress       0.74      0.62      0.68        72\n",
      "                      DV       0.67      0.37      0.47        60\n",
      "              Harassment       0.54      0.53      0.53        59\n",
      "              Irrelevant       0.92      0.99      0.96      1052\n",
      "                Measures       0.63      0.44      0.52        39\n",
      "           MurderSuicide       0.00      0.00      0.00        11\n",
      "Verbal_Online_Harassment       1.00      0.14      0.25        14\n",
      "\n",
      "                accuracy                           0.89      1307\n",
      "               macro avg       0.64      0.44      0.49      1307\n",
      "            weighted avg       0.87      0.89      0.87      1307\n",
      "\n"
     ]
    },
    {
     "name": "stderr",
     "output_type": "stream",
     "text": [
      "/usr/local/lib/python3.6/dist-packages/sklearn/metrics/_classification.py:1272: UndefinedMetricWarning: Precision and F-score are ill-defined and being set to 0.0 in labels with no predicted samples. Use `zero_division` parameter to control this behavior.\n",
      "  _warn_prf(average, modifier, msg_start, len(result))\n"
     ]
    }
   ],
   "source": [
    "predictions = bagged.predict(X_test_vec)\n",
    "accuracy = accuracy_score(y_test,predictions)\n",
    "print(accuracy)\n",
    "\n",
    "f1 = f1_score(y_test,predictions,average='weighted')\n",
    "print(f1)\n",
    "\n",
    "print(classification_report(y_test, predictions))"
   ]
  },
  {
   "cell_type": "code",
   "execution_count": 90,
   "metadata": {
    "colab": {
     "base_uri": "https://localhost:8080/",
     "height": 289
    },
    "colab_type": "code",
    "id": "xNc6a_5_0OSA",
    "outputId": "a8984126-c957-4393-8125-e69a4f6854e9"
   },
   "outputs": [
    {
     "name": "stdout",
     "output_type": "stream",
     "text": [
      "0.8676358071920428\n",
      "0.8384029410560432\n",
      "                          precision    recall  f1-score   support\n",
      "\n",
      "           Case_progress       0.90      0.60      0.72        72\n",
      "                      DV       0.79      0.18      0.30        60\n",
      "              Harassment       0.75      0.31      0.43        59\n",
      "              Irrelevant       0.87      0.99      0.93      1052\n",
      "                Measures       0.82      0.36      0.50        39\n",
      "           MurderSuicide       0.00      0.00      0.00        11\n",
      "Verbal_Online_Harassment       1.00      0.21      0.35        14\n",
      "\n",
      "                accuracy                           0.87      1307\n",
      "               macro avg       0.73      0.38      0.46      1307\n",
      "            weighted avg       0.86      0.87      0.84      1307\n",
      "\n"
     ]
    }
   ],
   "source": [
    "predictions = et.predict(X_test_vec)\n",
    "accuracy = accuracy_score(y_test,predictions)\n",
    "print(accuracy)\n",
    "\n",
    "f1 = f1_score(y_test,predictions,average='weighted')\n",
    "print(f1)\n",
    "\n",
    "print(classification_report(y_test, predictions))"
   ]
  },
  {
   "cell_type": "code",
   "execution_count": 0,
   "metadata": {
    "colab": {},
    "colab_type": "code",
    "id": "bymbhjqM2xww"
   },
   "outputs": [],
   "source": [
    "from sklearn.pipeline import make_pipeline\n",
    "from imblearn.over_sampling import RandomOverSampler\n",
    "from imblearn.pipeline import make_pipeline as make_pipeline_imb\n",
    "from imblearn.metrics import classification_report_imbalanced\n",
    "from sklearn.feature_extraction.text import TfidfVectorizer\n",
    "pipe = make_pipeline_imb(TfidfVectorizer(),\n",
    "                         RandomOverSampler(),\n",
    "                         BaggingClassifier(base_estimator=DecisionTreeClassifier(random_state=42)\n",
    "                            ,max_samples=0.5, max_features=0.5))\n",
    "\n",
    "pipe.fit(X_train, y_train)\n",
    "y_pred = pipe.predict(X_test)"
   ]
  },
  {
   "cell_type": "code",
   "execution_count": 99,
   "metadata": {
    "colab": {
     "base_uri": "https://localhost:8080/",
     "height": 51
    },
    "colab_type": "code",
    "id": "KqVbQJWN2_or",
    "outputId": "5d0d9d77-ee1d-47e3-b69e-9744f7976dbe"
   },
   "outputs": [
    {
     "name": "stdout",
     "output_type": "stream",
     "text": [
      "0.8806426931905126\n",
      "0.879874590003058\n"
     ]
    }
   ],
   "source": [
    "accuracy = accuracy_score(y_test,y_pred)\n",
    "print(accuracy)\n",
    "\n",
    "f1 = f1_score(y_test,y_pred,average='weighted')\n",
    "print(f1)"
   ]
  },
  {
   "cell_type": "code",
   "execution_count": 100,
   "metadata": {
    "colab": {
     "base_uri": "https://localhost:8080/",
     "height": 221
    },
    "colab_type": "code",
    "id": "TWp6EF8X3J1N",
    "outputId": "dc246975-4610-4990-dd43-256f662db480"
   },
   "outputs": [
    {
     "name": "stdout",
     "output_type": "stream",
     "text": [
      "                                pre       rec       spe        f1       geo       iba       sup\n",
      "\n",
      "           Case_progress       0.75      0.61      0.99      0.67      0.78      0.58        72\n",
      "                      DV       0.59      0.70      0.98      0.64      0.83      0.66        60\n",
      "              Harassment       0.49      0.66      0.97      0.57      0.80      0.62        59\n",
      "              Irrelevant       0.95      0.95      0.80      0.95      0.87      0.77      1052\n",
      "                Measures       0.57      0.64      0.99      0.60      0.79      0.61        39\n",
      "           MurderSuicide       0.33      0.09      1.00      0.14      0.30      0.08        11\n",
      "Verbal_Online_Harassment       0.80      0.29      1.00      0.42      0.53      0.27        14\n",
      "\n",
      "             avg / total       0.89      0.88      0.84      0.88      0.85      0.73      1307\n",
      "\n"
     ]
    }
   ],
   "source": [
    "print(classification_report_imbalanced(y_test, y_pred))"
   ]
  },
  {
   "cell_type": "code",
   "execution_count": 101,
   "metadata": {
    "colab": {
     "base_uri": "https://localhost:8080/",
     "height": 34
    },
    "colab_type": "code",
    "id": "aX0VVss73T6m",
    "outputId": "c30bc6d4-08a5-4e0c-a208-b1248c20e968"
   },
   "outputs": [
    {
     "data": {
      "text/plain": [
       "array(['Measures'], dtype=object)"
      ]
     },
     "execution_count": 101,
     "metadata": {
      "tags": []
     },
     "output_type": "execute_result"
    }
   ],
   "source": [
    "sentence = 'The fact their might be so many marital rape and other sexual assaults within homes taking place right now with a greater rate, and no one wont be talking about it bcz CORONA.'\n",
    "sample = pipe.predict([sentence])\n",
    "sample"
   ]
  },
  {
   "cell_type": "code",
   "execution_count": 0,
   "metadata": {
    "colab": {},
    "colab_type": "code",
    "id": "TEdDqJ3l3cgV"
   },
   "outputs": [],
   "source": [
    "from sklearn.pipeline import make_pipeline\n",
    "from imblearn.over_sampling import RandomOverSampler\n",
    "from imblearn.pipeline import make_pipeline as make_pipeline_imb\n",
    "from imblearn.metrics import classification_report_imbalanced\n",
    "from sklearn.feature_extraction.text import TfidfVectorizer\n",
    "pipe = make_pipeline_imb(TfidfVectorizer(),\n",
    "                         RandomOverSampler(),\n",
    "                         RandomForestClassifier(random_state=42))\n",
    "\n",
    "pipe.fit(X_train, y_train)\n",
    "y_pred = pipe.predict(X_test)"
   ]
  },
  {
   "cell_type": "code",
   "execution_count": 106,
   "metadata": {
    "colab": {
     "base_uri": "https://localhost:8080/",
     "height": 255
    },
    "colab_type": "code",
    "id": "Jb50eH9I4JCc",
    "outputId": "db6dfb69-2073-4395-c90e-50a4cef444f0"
   },
   "outputs": [
    {
     "name": "stdout",
     "output_type": "stream",
     "text": [
      "0.8745218056618209\n",
      "0.8482355027857358\n",
      "                                pre       rec       spe        f1       geo       iba       sup\n",
      "\n",
      "           Case_progress       0.90      0.64      1.00      0.75      0.80      0.61        72\n",
      "                      DV       0.78      0.23      1.00      0.36      0.48      0.21        60\n",
      "              Harassment       0.70      0.36      0.99      0.47      0.59      0.33        59\n",
      "              Irrelevant       0.88      0.99      0.44      0.93      0.66      0.46      1052\n",
      "                Measures       0.88      0.36      1.00      0.51      0.60      0.34        39\n",
      "           MurderSuicide       0.00      0.00      1.00      0.00      0.00      0.00        11\n",
      "Verbal_Online_Harassment       1.00      0.14      1.00      0.25      0.38      0.13        14\n",
      "\n",
      "             avg / total       0.86      0.87      0.55      0.85      0.65      0.44      1307\n",
      "\n"
     ]
    }
   ],
   "source": [
    "accuracy = accuracy_score(y_test,y_pred)\n",
    "print(accuracy)\n",
    "\n",
    "f1 = f1_score(y_test,y_pred,average='weighted')\n",
    "print(f1)\n",
    "print(classification_report_imbalanced(y_test, y_pred))"
   ]
  },
  {
   "cell_type": "code",
   "execution_count": 107,
   "metadata": {
    "colab": {
     "base_uri": "https://localhost:8080/",
     "height": 34
    },
    "colab_type": "code",
    "id": "GQA1pyU64Q_B",
    "outputId": "61d1d781-62a2-4117-bd97-e69dd0ddab41"
   },
   "outputs": [
    {
     "data": {
      "text/plain": [
       "array(['Irrelevant'], dtype=object)"
      ]
     },
     "execution_count": 107,
     "metadata": {
      "tags": []
     },
     "output_type": "execute_result"
    }
   ],
   "source": [
    "sentence = 'The fact their might be so many marital rape and other sexual assaults within homes taking place right now with a greater rate, and no one wont be talking about it bcz CORONA.'\n",
    "sample = pipe.predict([sentence])\n",
    "sample"
   ]
  },
  {
   "cell_type": "code",
   "execution_count": 0,
   "metadata": {
    "colab": {},
    "colab_type": "code",
    "id": "uyLELttz4lYa"
   },
   "outputs": [],
   "source": [
    "from sklearn.pipeline import make_pipeline\n",
    "from imblearn.over_sampling import RandomOverSampler\n",
    "from imblearn.pipeline import make_pipeline as make_pipeline_imb\n",
    "from imblearn.metrics import classification_report_imbalanced\n",
    "from sklearn.feature_extraction.text import TfidfVectorizer\n",
    "pipe = make_pipeline_imb(TfidfVectorizer(),\n",
    "                         RandomOverSampler(),\n",
    "                         ExtraTreesClassifier(random_state=42))\n",
    "\n",
    "pipe.fit(X_train, y_train)\n",
    "y_pred = pipe.predict(X_test)\n"
   ]
  },
  {
   "cell_type": "code",
   "execution_count": 109,
   "metadata": {
    "colab": {
     "base_uri": "https://localhost:8080/",
     "height": 255
    },
    "colab_type": "code",
    "id": "taBfZh2B4t3l",
    "outputId": "8faca4dd-4e9c-4c69-84c9-233ee968f802"
   },
   "outputs": [
    {
     "name": "stdout",
     "output_type": "stream",
     "text": [
      "0.8607498087222647\n",
      "0.8266287901022968\n",
      "                                pre       rec       spe        f1       geo       iba       sup\n",
      "\n",
      "           Case_progress       0.93      0.54      1.00      0.68      0.74      0.52        72\n",
      "                      DV       0.73      0.18      1.00      0.29      0.43      0.17        60\n",
      "              Harassment       0.67      0.17      1.00      0.27      0.41      0.15        59\n",
      "              Irrelevant       0.86      1.00      0.35      0.92      0.59      0.37      1052\n",
      "                Measures       0.84      0.41      1.00      0.55      0.64      0.39        39\n",
      "           MurderSuicide       0.00      0.00      1.00      0.00      0.00      0.00        11\n",
      "Verbal_Online_Harassment       1.00      0.14      1.00      0.25      0.38      0.13        14\n",
      "\n",
      "             avg / total       0.85      0.86      0.48      0.83      0.58      0.35      1307\n",
      "\n"
     ]
    }
   ],
   "source": [
    "accuracy = accuracy_score(y_test,y_pred)\n",
    "print(accuracy)\n",
    "\n",
    "f1 = f1_score(y_test,y_pred,average='weighted')\n",
    "print(f1)\n",
    "print(classification_report_imbalanced(y_test, y_pred))"
   ]
  }
 ],
 "metadata": {
  "accelerator": "GPU",
  "colab": {
   "collapsed_sections": [],
   "name": "News_classification.ipynb",
   "provenance": []
  },
  "kernelspec": {
   "display_name": "Python 3",
   "language": "python",
   "name": "python3"
  },
  "language_info": {
   "codemirror_mode": {
    "name": "ipython",
    "version": 3
   },
   "file_extension": ".py",
   "mimetype": "text/x-python",
   "name": "python",
   "nbconvert_exporter": "python",
   "pygments_lexer": "ipython3",
   "version": "3.6.5"
  }
 },
 "nbformat": 4,
 "nbformat_minor": 1
}
